{
 "cells": [
  {
   "cell_type": "code",
   "execution_count": 1,
   "metadata": {},
   "outputs": [
    {
     "name": "stdout",
     "output_type": "stream",
     "text": [
      "are turned spots cast ignoring\n",
      "I down Unusual only being\n",
      "the the Not and by\n",
      "splinter the way 1GC Weapon\n",
      "Penetrating realm through a corrupt\n"
     ]
    }
   ],
   "source": [
    "def poemgen():\n",
    "    import random\n",
    "    x = 0\n",
    "    warh = open(\"warremix.txt\", \"r\")\n",
    "    poeml = list(warh)\n",
    "    poemls = \" \".join(poeml).split()\n",
    "    line = list(\"\")\n",
    "    while x != 5:\n",
    "        myword = random.choice(poemls)\n",
    "        \n",
    "        line.append(myword)\n",
    "        x = x+1\n",
    "    s = \" \".join(line)\n",
    "    return s\n",
    "def main():\n",
    "    n = 0\n",
    "    while n!= 5:\n",
    "        print poemgen()\n",
    "        n = n+1\n",
    "main()"
   ]
  },
  {
   "cell_type": "code",
   "execution_count": null,
   "metadata": {
    "scrolled": true
   },
   "outputs": [],
   "source": []
  }
 ],
 "metadata": {
  "kernelspec": {
   "display_name": "Python 2",
   "language": "python",
   "name": "python2"
  },
  "language_info": {
   "codemirror_mode": {
    "name": "ipython",
    "version": 2
   },
   "file_extension": ".py",
   "mimetype": "text/x-python",
   "name": "python",
   "nbconvert_exporter": "python",
   "pygments_lexer": "ipython2",
   "version": "2.7.13"
  }
 },
 "nbformat": 4,
 "nbformat_minor": 2
}
